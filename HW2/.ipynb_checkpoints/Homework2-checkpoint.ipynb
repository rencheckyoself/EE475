{
 "cells": [
  {
   "cell_type": "code",
   "execution_count": 1,
   "metadata": {},
   "outputs": [],
   "source": [
    "import sympy as sym\n",
    "import numpy as np\n",
    "import matplotlib.pyplot as plt\n",
    "\n",
    "# import autograd ’s automatic differentiator\n",
    "from autograd import grad\n",
    "from autograd import hessian\n",
    "\n",
    "# datapath to data\n",
    "datapath = '/home/michaelrencheck/EE475/machine_learning_refined-gh-pages/mlrefined_exercises/ed_2/mlrefined_datasets/superlearn_datasets/'\n",
    "\n",
    "sym.init_printing()"
   ]
  },
  {
   "cell_type": "markdown",
   "metadata": {},
   "source": [
    "Please complete exercises 4.1, 4.2, 4.5, in Chapter 4 and  5.2, 5.9 in Chapter 5 in your textbook.\n",
    "\n",
    "# Problem 4.1"
   ]
  },
  {
   "cell_type": "markdown",
   "metadata": {},
   "source": [
    "## a)\n",
    "\n"
   ]
  },
  {
   "cell_type": "markdown",
   "metadata": {},
   "source": [
    "$$z^TCz \\geq 0$$\n",
    "\n",
    "The eiganvalue decomposition of C:\n",
    "$$ C = VDV^T $$\n",
    "\n",
    "Substituting back in:\n",
    "$$z^TVDV^Tz \\geq 0$$\n",
    "\n",
    "We know that:\n",
    "$$z^TVV^Tz \\gt 0$$\n",
    "\n",
    "Therefore the beginning statement is true only if all the values in D are nonnegative.\n"
   ]
  },
  {
   "cell_type": "markdown",
   "metadata": {},
   "source": [
    "## b)"
   ]
  },
  {
   "cell_type": "markdown",
   "metadata": {},
   "source": [
    "$$ z^TCz \\geq 0$$\n",
    "\n",
    "We know that:\n",
    "\n",
    "$$ z^Tz \\geq 0 $$\n",
    "\n",
    "So in order for the statement to be true all values of C are nonnegative.\n",
    "\n",
    "The eigenvalue decomposition of C is: \n",
    "\n",
    "$C = VDV^T$ and $C \\geq 0$\n",
    "\n",
    "We know that:\n",
    "\n",
    "$$ VV^T \\gt 0 $$\n",
    "\n",
    "Therefore in order for the original statement to hold all of the eigenvalues in D must be nonnegative."
   ]
  },
  {
   "cell_type": "markdown",
   "metadata": {},
   "source": [
    "## c) "
   ]
  },
  {
   "cell_type": "markdown",
   "metadata": {},
   "source": [
    "The second-order definition of convexity states that if the Hessian is semi-positive definite, then the function is convex.\n",
    "\n",
    "Plotting the function $g(textbf{w})$ reveals that this is a convex function, therefore the assumption is that the Hessian is semi-positive definite.\n",
    "\n",
    "The Hessian of the function is:\n",
    "\n",
    "$$\\nabla^2 g(\\textbf{w}) = C$$\n",
    "\n",
    "If C is semi-positive definite, then its eigenvalues must all be nonnegative.\n",
    "\n"
   ]
  },
  {
   "cell_type": "code",
   "execution_count": 6,
   "metadata": {},
   "outputs": [
    {
     "name": "stdout",
     "output_type": "stream",
     "text": [
      "The eigenvalues of C are: \n",
      "[ 2.  0.]\n"
     ]
    }
   ],
   "source": [
    "C = np.array([[1,1],[1,1]])\n",
    "\n",
    "print(\"The eigenvalues of C are: \")\n",
    "print(np.linalg.eig(C)[0])"
   ]
  },
  {
   "cell_type": "markdown",
   "metadata": {},
   "source": [
    "After performing the eigenvalue decompostion of C, we can see that all of the eigenvalues are, in fact, nonnegative, meaning the Hessian is semi-positive definite."
   ]
  },
  {
   "cell_type": "markdown",
   "metadata": {},
   "source": [
    "## d)"
   ]
  },
  {
   "cell_type": "markdown",
   "metadata": {},
   "source": [
    "If the eigenvalues of C are not all positive, it means that C is not greater than 0. \n",
    "\n",
    "In order to shift this, C can be modified by adding $I\\lambda$ such that C becomes greater than or equal to zero. This will then result in all nonnegative eigen values.\n",
    "\n",
    "The smallest $\\lambda$ that can be used to satisfy this is the absolute value of the minimum element in C."
   ]
  },
  {
   "cell_type": "markdown",
   "metadata": {},
   "source": [
    "# Problem 4.2"
   ]
  },
  {
   "cell_type": "markdown",
   "metadata": {},
   "source": [
    "## a)"
   ]
  },
  {
   "cell_type": "markdown",
   "metadata": {},
   "source": [
    "The outer product matrix $xx^T$ will result in a square, symetric matrix M. If v is an eigenvector to M, then the following is true:\n",
    "\n",
    "$$ Mv = \\lambda v $$\n",
    "$$ x^T * xx^T v = \\lambda x^T v $$\n",
    "$$ x^T * x = \\lambda$$\n",
    "$$ [x_1^2, x_2^2, \\dotsb , x_N^2] = \\lambda $$\n",
    "\n",
    "Since a squared number is always greater than or equal to zero, all of the eigenvalues are nonnegative.\n"
   ]
  },
  {
   "cell_type": "markdown",
   "metadata": {},
   "source": [
    "## b)"
   ]
  },
  {
   "cell_type": "markdown",
   "metadata": {},
   "source": [
    "Using the proof in a), each square matrix $x_px_p^T$ is shown to have all nonnegative eigenvalues. Multiplying this matrix by a nonnegative scaling factor cannot change that fact that each individual matrix will still maintain a nonnegative eigenvalues.\n",
    "\n",
    "Since all matricies from 0 to P have nonnegative eigenvalues, the sum of all P matrices also must have nonnegative eigenvalues. "
   ]
  },
  {
   "cell_type": "markdown",
   "metadata": {},
   "source": [
    "## c)"
   ]
  },
  {
   "cell_type": "markdown",
   "metadata": {},
   "source": [
    "Using the proof in b) shows the summation will result in nonnegative eigenvalues. If this matrix to increased by $\\lambda I$ this will increase every value along the matrix diagonal by $\\lambda$.\n",
    "\n",
    "The diagonal of the matrix is equal:\n",
    "\n",
    "$$\\left[ \\sum_1^P x_{1,p}^2, \\sum_1^P x_{2,p}^2, \\dotsb, \\sum_1^P x_{N,}^2 \\right] $$ \n",
    "\n",
    "By observation this is x^Tx, which in a) is shown to be equal to the eigenvales. Adding a scalar value $\\lambda$ that is greater than 0 will result in all eigenvalues being only positive."
   ]
  },
  {
   "cell_type": "markdown",
   "metadata": {},
   "source": [
    "# Problem 4.5"
   ]
  },
  {
   "cell_type": "markdown",
   "metadata": {},
   "source": [
    "## Setup"
   ]
  },
  {
   "cell_type": "code",
   "execution_count": 7,
   "metadata": {},
   "outputs": [],
   "source": [
    "w1, w2 = sym.symbols('w_1 w_2')\n",
    "\n",
    "w = sym.Matrix([[w1],[w2]])\n",
    "\n",
    "f = sym.log(1 + sym.exp(w.T * w)[0], 10)\n",
    "\n",
    "gradf = sym.Matrix([f]).jacobian(w)\n",
    "\n",
    "hessf = sym.hessian(f, w)\n",
    "hessf_inv = hessf.inv()\n",
    "\n",
    "f_lam = sym.lambdify([w1, w2], f)\n",
    "gradf_lam = sym.lambdify([w1, w2], gradf)\n",
    "hessf_lam = sym.lambdify([w1, w2], hessf)\n",
    "hessf_inv_lam = sym.lambdify([w1, w2], hessf_inv)"
   ]
  },
  {
   "cell_type": "markdown",
   "metadata": {},
   "source": [
    "## a)"
   ]
  },
  {
   "cell_type": "code",
   "execution_count": 73,
   "metadata": {},
   "outputs": [
    {
     "data": {
      "image/png": "[encoded data removed]",
      "text/plain": [
       "<matplotlib.figure.Figure at 0x7f2fd8a399b0>"
      ]
     },
     "metadata": {},
     "output_type": "display_data"
    },
    {
     "name": "stdout",
     "output_type": "stream",
     "text": [
      "The stationary point is at \n",
      "[  9.16802365e-06   4.58401182e-06]\n",
      "Resulting in a g(w): \n",
      "0.301029995687\n"
     ]
    }
   ],
   "source": [
    "\n",
    "n = 20 # iterations\n",
    "a = 1 # learning rate\n",
    "\n",
    "w_init = np.array([2,1])  # initial guess\n",
    "\n",
    "w = np.ones([2,n])\n",
    "\n",
    "w[0,:] = w[0,:]*w_init[0]\n",
    "w[1,:] = w[1,:]*w_init[1]\n",
    "\n",
    "for j in range(n-1):\n",
    "    df = gradf_lam(w[0][j], w[1][j])\n",
    "       \n",
    "    w[:,j+1] = w[:,j] - a * df[0]\n",
    "    \n",
    "xaxis = np.arange(n)\n",
    "\n",
    "fig1 = plt.figure(dpi=110,facecolor='w')\n",
    "plt.grid(True)\n",
    "plt.plot(xaxis, w[0])\n",
    "plt.plot(xaxis, w[1])\n",
    "plt.xlabel(\"Iteration\")\n",
    "plt.ylabel(\"Output\")\n",
    "plt.show()\n",
    "\n",
    "print(\"The stationary point is at \")\n",
    "print(w[:,-1])\n",
    "print(\"Resulting in a g(w): \")\n",
    "print(f_lam(w[0,-1], w[1,-1]))"
   ]
  },
  {
   "cell_type": "markdown",
   "metadata": {},
   "source": [
    "## b)"
   ]
  },
  {
   "cell_type": "code",
   "execution_count": 17,
   "metadata": {},
   "outputs": [
    {
     "name": "stdout",
     "output_type": "stream",
     "text": [
      "The eigenvalues for the Hessian evaluated at the point found in a) are both positive:  [ 0.43429448  0.43429448]\n",
      "This confirms this function is convex.\n"
     ]
    }
   ],
   "source": [
    "hess_eval = hessf_lam(0,0)\n",
    "\n",
    "print(\"The eigenvalues for the Hessian evaluated at the point found in a) are both positive: \", np.linalg.eig(hess_eval)[0])\n",
    "\n",
    "print(\"This confirms this function is convex.\")\n"
   ]
  },
  {
   "cell_type": "markdown",
   "metadata": {},
   "source": [
    "## c)"
   ]
  },
  {
   "cell_type": "code",
   "execution_count": 98,
   "metadata": {},
   "outputs": [
    {
     "data": {
      "image/png": "[encoded data removed]",
      "text/plain": [
       "<matplotlib.figure.Figure at 0x7f2fd8bc8128>"
      ]
     },
     "metadata": {},
     "output_type": "display_data"
    },
    {
     "name": "stdout",
     "output_type": "stream",
     "text": [
      "The stationary point is at \n",
      "[ 0.  0.]\n",
      "Resulting in a g(w): \n",
      "0.301029995664\n"
     ]
    }
   ],
   "source": [
    "n = 10  # iterations\n",
    "\n",
    "w_init = np.array([1,1])  # initial guess\n",
    "\n",
    "w = np.ones([2,n])\n",
    "\n",
    "w[0,:] = w[0,:]*w_init[0]\n",
    "w[1,:] = w[1,:]*w_init[1]\n",
    "\n",
    "cost_history = np.zeros(n)\n",
    "\n",
    "cost_history[0] = f_lam(w_init[0],w_init[1])\n",
    "\n",
    "for j in range(1,n):\n",
    "    df = gradf_lam(w[0][j-1], w[1][j-1])\n",
    "    ddf = hessf_inv_lam(w[0][j-1], w[1][j-1])\n",
    "\n",
    "    df = np.reshape(df[0], [2,1])\n",
    "    \n",
    "    w[:,j] = w[:,j-1] - np.squeeze(np.matmul(ddf, df))\n",
    "    \n",
    "    cost_history[j] = f_lam(w[0,j],w[1,j])\n",
    "        \n",
    "xaxis = np.arange(n)\n",
    "\n",
    "# fig1 = plt.figure(dpi=110,facecolor='w')\n",
    "# plt.grid(True)\n",
    "# plt.plot(xaxis, w[0])\n",
    "# plt.plot(xaxis, w[1])\n",
    "# plt.xlim([0,n-1])\n",
    "# plt.xlabel(\"Iteration\")\n",
    "# plt.ylabel(\"Output\")\n",
    "# plt.legend(['$w_1$','$w_2$'])\n",
    "\n",
    "fig1 = plt.figure(dpi=110,facecolor='w')\n",
    "plt.grid(True)\n",
    "plt.plot(xaxis, cost_history)\n",
    "plt.xlabel(\"Iteration\")\n",
    "plt.ylim([0,1])\n",
    "plt.xlim([0,n-1])\n",
    "plt.ylabel(\"Cost History\")\n",
    "\n",
    "plt.show()\n",
    "\n",
    "print(\"The stationary point is at \")\n",
    "print(w[:,-1])\n",
    "print(\"Resulting in a g(w): \")\n",
    "print(f_lam(w[0,-1], w[1,-1]))"
   ]
  },
  {
   "cell_type": "markdown",
   "metadata": {},
   "source": [
    "## d)"
   ]
  },
  {
   "cell_type": "code",
   "execution_count": 99,
   "metadata": {},
   "outputs": [
    {
     "data": {
      "image/png": "[encoded data removed]",
      "text/plain": [
       "<matplotlib.figure.Figure at 0x7f2fd8dfac88>"
      ]
     },
     "metadata": {},
     "output_type": "display_data"
    },
    {
     "name": "stdout",
     "output_type": "stream",
     "text": [
      "The stationary point is at \n",
      "[ 0.  0.]\n",
      "Resulting in a g(w): \n",
      "0.301029995664\n"
     ]
    }
   ],
   "source": [
    "n = 10 # iterations\n",
    "\n",
    "w_init = np.array([4,4])  # initial guess\n",
    "\n",
    "w = np.ones([2,n])\n",
    "\n",
    "w[0,:] = w[0,:]*w_init[0]\n",
    "w[1,:] = w[1,:]*w_init[1]\n",
    "\n",
    "cost_history = np.zeros(n)\n",
    "\n",
    "cost_history[0] = f_lam(w_init[0],w_init[1])\n",
    "\n",
    "for j in range(1,n):\n",
    "    df = gradf_lam(w[0][j-1], w[1][j-1])\n",
    "    ddf = hessf_inv_lam(w[0][j-1], w[1][j-1])\n",
    "\n",
    "    df = np.reshape(df[0], [2,1])\n",
    "    \n",
    "    w[:,j] = w[:,j-1] - np.squeeze(np.matmul(ddf, df))\n",
    "    \n",
    "    cost_history[j] = f_lam(w[0,j],w[1,j])\n",
    "        \n",
    "xaxis = np.arange(n)\n",
    "\n",
    "# fig1 = plt.figure(dpi=110,facecolor='w')\n",
    "# plt.grid(True)\n",
    "# plt.plot(xaxis, w[0])\n",
    "# plt.plot(xaxis, w[1])\n",
    "# plt.xlim([0,n-1])\n",
    "# plt.legend(['$w_1$','$w_2$'])\n",
    "# plt.xlabel(\"Iteration\")\n",
    "# plt.ylabel(\"Output\")\n",
    "\n",
    "fig1 = plt.figure(dpi=110,facecolor='w')\n",
    "plt.grid(True)\n",
    "plt.plot(xaxis, cost_history)\n",
    "plt.xlabel(\"Iteration\")\n",
    "plt.ylim([0,1])\n",
    "plt.xlim([0,n-1])\n",
    "plt.ylabel(\"Cost History\")\n",
    "\n",
    "plt.show()\n",
    "\n",
    "print(\"The stationary point is at \")\n",
    "print(w[:,-1])\n",
    "print(\"Resulting in a g(w): \")\n",
    "print(f_lam(w[0,-1], w[1,-1]))"
   ]
  },
  {
   "cell_type": "markdown",
   "metadata": {},
   "source": [
    "Since Newton's method is using the second derivative, we are fitting a parabola  to the cost function. Meaning the error between the the fit and the function will grow exponetially as we diverge from the stationary point. Therefore, the exponential increase allows the algorithm to take exponentially larger steps toward the stationary point the farther away the input point is. "
   ]
  },
  {
   "cell_type": "markdown",
   "metadata": {},
   "source": [
    "# Problem 5.2"
   ]
  },
  {
   "cell_type": "code",
   "execution_count": 4,
   "metadata": {},
   "outputs": [
    {
     "name": "stdout",
     "output_type": "stream",
     "text": [
      "(1, 1498)\n",
      "(1, 1498)\n"
     ]
    },
    {
     "data": {
      "image/png": "[encoded data removed]",
      "text/plain": [
       "<matplotlib.figure.Figure at 0x7fc6f5e5b2e8>"
      ]
     },
     "metadata": {},
     "output_type": "display_data"
    }
   ],
   "source": [
    "# import the dataset\n",
    "csvname = datapath + 'kleibers_law_data.csv'\n",
    "data = np.loadtxt(csvname,delimiter=',')\n",
    "\n",
    "x = data[:-1,:]\n",
    "y = data[-1:,:]\n",
    "\n",
    "x_log = np.log(x)\n",
    "y_log = np.log(y)\n",
    "\n",
    "print(np.shape(x))\n",
    "print(np.shape(y))\n",
    "\n",
    "fig1 = plt.figure(dpi=110,facecolor='w')\n",
    "plt.grid(True)\n",
    "plt.plot(np.log(x),np.log(y), \"bo\")\n",
    "plt.xlabel(\"Mass\")\n",
    "plt.ylabel(\"Metabolic Rate\")\n",
    "\n",
    "plt.show()"
   ]
  },
  {
   "cell_type": "markdown",
   "metadata": {},
   "source": [
    "## a)"
   ]
  },
  {
   "cell_type": "code",
   "execution_count": 5,
   "metadata": {},
   "outputs": [
    {
     "name": "stdout",
     "output_type": "stream",
     "text": [
      "[[ 6.81473477]\n",
      " [ 0.6528121 ]]\n"
     ]
    },
    {
     "data": {
      "image/png": "[encoded data removed]",
      "text/plain": [
       "<matplotlib.figure.Figure at 0x7fc6d59fb710>"
      ]
     },
     "metadata": {},
     "output_type": "display_data"
    }
   ],
   "source": [
    "def model(x_p ,w):\n",
    "# compute linear combination and return\n",
    "    a = w[0] + np .dot(x_p.T,w[1:])\n",
    "    return a.T\n",
    "\n",
    "# a least squares function for linear regression\n",
    "def least_squares (w,x,y):\n",
    "# loop over points and compute cost contribution from each input/output pair\n",
    "    cost = 0\n",
    "    for p in range(y.size):\n",
    "        # get pth input/ output pair\n",
    "        x_p = x[:,p][:, np.newaxis ]\n",
    "        y_p = y[p]\n",
    "\n",
    "        ## add to current cost\n",
    "        cost += (model(x_p, w) - y_p)**2\n",
    "\n",
    "    # return average least squares error\n",
    "    return cost / float(y. size)\n",
    "\n",
    "\n",
    "\n",
    "w = np.ones([2,1])\n",
    "\n",
    "x_log = np.squeeze(np.log(x))\n",
    "y_log = np.squeeze(np.log(y))\n",
    "\n",
    "A = np.zeros([2,2])\n",
    "b = np.zeros([2,1])\n",
    "\n",
    "for i, xval in enumerate(x_log):\n",
    "      \n",
    "    # append 1 to the data set\n",
    "    xp = np.reshape(np.array([1, xval]), [2,1])    \n",
    "    A += np.matmul(xp, xp.transpose()) \n",
    "    b += xp * y_log[i]    \n",
    "\n",
    "Ainv = np.linalg.inv(A)\n",
    "\n",
    "# Newtons Method Update\n",
    "#  w = w - Ainv * (A * w - b)\n",
    "w = np.matmul(Ainv, b)\n",
    "\n",
    "print(w)\n",
    "\n",
    "xaxis = np.linspace(min(x_log),max(x_log))\n",
    "yaxis = w[1] * xaxis + w[0]\n",
    "\n",
    "fig1 = plt.figure(dpi=110,facecolor='w')\n",
    "plt.grid(True)\n",
    "plt.plot(x_log,y_log, \"b+\")\n",
    "plt.plot(xaxis,yaxis, 'r')\n",
    "plt.xlabel(\"Mass\")\n",
    "plt.ylabel(\"Metabolic Rate\")\n",
    "\n",
    "plt.show()"
   ]
  },
  {
   "cell_type": "markdown",
   "metadata": {},
   "source": [
    "## b)\n",
    "The nonlinear model is:\n",
    "$$\\log(y) = 0.6528121 * \\log(x) + 6.81473477 $$\n",
    "$$ y = x^{0.6528121} * e^{6.81473477}$$"
   ]
  },
  {
   "cell_type": "markdown",
   "metadata": {},
   "source": [
    "## c)"
   ]
  },
  {
   "cell_type": "code",
   "execution_count": 7,
   "metadata": {},
   "outputs": [
    {
     "name": "stdout",
     "output_type": "stream",
     "text": [
      "A 10kg animal requires  980025.833806  calories/day\n"
     ]
    }
   ],
   "source": [
    "x_in = 10 # kg\n",
    "\n",
    "y_out = np.exp(w[1] * np.log(x_in) + w[0])\n",
    "\n",
    "y_out = (1000 * y_out) / 4.18\n",
    "\n",
    "print(\"A 10kg animal requires \", y_out[0], \" calories/day\")\n"
   ]
  },
  {
   "cell_type": "markdown",
   "metadata": {},
   "source": [
    "\n",
    "# Problem 5.9"
   ]
  },
  {
   "cell_type": "code",
   "execution_count": 65,
   "metadata": {},
   "outputs": [],
   "source": [
    "# Standard Normalize the data\n",
    "def std_normalize(in_arr):\n",
    "    u = np.mean(in_arr, axis=1, dtype=np.float64)\n",
    "    sig = np.std(in_arr, axis=1, dtype=np.float64)\n",
    "    \n",
    "    out = np.zeros(in_arr.shape)\n",
    "    \n",
    "    for i, row in enumerate(in_arr):\n",
    "        for j, element in enumerate(row):\n",
    "            out[i,j] = (element - u[i])/ sig[i]\n",
    "    \n",
    "    return np.squeeze(out)\n",
    "\n",
    "def fit_data(x,y):\n",
    "    # Create a linear fit for the data set\n",
    "    w = np.ones([x.shape[0],1])\n",
    "\n",
    "    A = np.zeros([x.shape[0]+1, x.shape[0]+1])\n",
    "    b = np.zeros([x.shape[0]+1, 1])\n",
    "\n",
    "    for i in range(x.shape[1]):\n",
    "        # append 1 to the data set\n",
    "        xp = np.concatenate((np.array([1]), x[:,i]))\n",
    "        xp = np.reshape(xp, [xp.shape[0],1])\n",
    "\n",
    "        A += np.dot(xp, xp.transpose()) \n",
    "        b += xp * y[:,i]\n",
    "\n",
    "    Ainv = np.linalg.inv(A)\n",
    "\n",
    "    # Newtons Method Update\n",
    "    #  w = w - Ainv * (A * w - b)\n",
    "\n",
    "    w = np.dot(Ainv, b)\n",
    "\n",
    "    # Find the RMSE and MAD Metrics\n",
    "\n",
    "    P = x.shape[1]\n",
    "\n",
    "    MAD = 0\n",
    "    RMSE = 0\n",
    "    for i in range(P):\n",
    "        xp = np.concatenate((np.array([1]), x[:,i]))    \n",
    "        xp = np.reshape(xp, [1,xp.shape[0]]) \n",
    "        \n",
    "        diff = np.matmul(xp,w) - y[0,i]\n",
    "        \n",
    "        MAD += abs(diff)\n",
    "        RMSE += (diff)**2\n",
    "\n",
    "    MAD *= (1/P)\n",
    "    RMSE *= (1/P)\n",
    "    RMSE = np.sqrt(RMSE)\n",
    "        \n",
    "    return {\"w\": w, \"rmse\": np.squeeze(RMSE), \"mad\": np.squeeze(MAD)}"
   ]
  },
  {
   "cell_type": "markdown",
   "metadata": {},
   "source": [
    "## Boston Housing"
   ]
  },
  {
   "cell_type": "code",
   "execution_count": 66,
   "metadata": {},
   "outputs": [
    {
     "name": "stdout",
     "output_type": "stream",
     "text": [
      "The RMSE is  4679.50630064 and the MAD is  3272.944638\n"
     ]
    }
   ],
   "source": [
    "# import the dataset\n",
    "csvname =  datapath + 'boston_housing.csv'\n",
    "data = np.loadtxt(csvname,delimiter=',')\n",
    "x = data[:-1,:]\n",
    "y = data[-1:,:]\n",
    "\n",
    "# print(np.shape(x))\n",
    "# print(np.shape(y))\n",
    "\n",
    "x_norm = std_normalize(x)\n",
    "sol = fit_data(x_norm,y)\n",
    "\n",
    "print(\"The RMSE is \", sol[\"rmse\"]*1000, \"and the MAD is \", sol[\"mad\"]*1000)"
   ]
  },
  {
   "cell_type": "markdown",
   "metadata": {},
   "source": [
    "## Auto Milage"
   ]
  },
  {
   "cell_type": "code",
   "execution_count": 67,
   "metadata": {},
   "outputs": [
    {
     "name": "stdout",
     "output_type": "stream",
     "text": [
      "The RMSE is  3.2935514183022025 and the MAD is  2.4993098325008707\n"
     ]
    }
   ],
   "source": [
    "# import the dataset\n",
    "csvname =  datapath + 'auto_data.csv'\n",
    "data = np.loadtxt(csvname,delimiter=',')\n",
    "x = data[:-1,:]\n",
    "y = data[-1:,:]\n",
    "\n",
    "# print(np.shape(x))\n",
    "# print(np.shape(y))\n",
    "\n",
    "x_norm = std_normalize(x)\n",
    "sol = fit_data(x_norm,y)\n",
    "\n",
    "print(\"The RMSE is \", sol[\"rmse\"], \"and the MAD is \", sol[\"mad\"])"
   ]
  }
 ],
 "metadata": {
  "kernelspec": {
   "display_name": "Python 3",
   "language": "python",
   "name": "python3"
  },
  "language_info": {
   "codemirror_mode": {
    "name": "ipython",
    "version": 3
   },
   "file_extension": ".py",
   "mimetype": "text/x-python",
   "name": "python",
   "nbconvert_exporter": "python",
   "pygments_lexer": "ipython3",
   "version": "3.6.9"
  }
 },
 "nbformat": 4,
 "nbformat_minor": 4
}
