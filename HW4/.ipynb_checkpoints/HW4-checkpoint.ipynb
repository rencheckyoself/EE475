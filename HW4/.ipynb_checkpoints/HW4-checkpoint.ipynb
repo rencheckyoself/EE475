{
 "cells": [
  {
   "cell_type": "markdown",
   "metadata": {},
   "source": [
    "# Homework 4"
   ]
  },
  {
   "cell_type": "markdown",
   "metadata": {},
   "source": [
    "Please complete exercises 7.2, 7.3, 7.4, 7.6, 7.8 in Chapter 7 and 9.2 in Chapter 9 in your\n",
    "textbook."
   ]
  },
  {
   "cell_type": "code",
   "execution_count": 36,
   "metadata": {},
   "outputs": [],
   "source": [
    "import sympy as sym\n",
    "import autograd.numpy as np\n",
    "import matplotlib.pyplot as plt\n",
    "\n",
    "# import autograd ’s automatic differentiator\n",
    "import autograd as ag\n",
    "\n",
    "# datapath to data\n",
    "datapath = '/home/michaelrencheck/EE475/machine_learning_refined-gh-pages/mlrefined_exercises/ed_2/mlrefined_datasets/superlearn_datasets/'\n",
    "\n",
    "sym.init_printing()\n",
    "\n",
    "# Standard Normalize the data\n",
    "def std_normalize(in_arr):\n",
    "    u = np.mean(in_arr, axis=1)\n",
    "    sig = np.std(in_arr, axis=1)\n",
    "        \n",
    "    out = np.zeros(in_arr.shape)\n",
    "    \n",
    "    for i, row in enumerate(in_arr):       \n",
    "        for j, element in enumerate(row):\n",
    "            out[i,j] = (element - u[i])/ sig[i]\n",
    "            \n",
    "    return np.squeeze(out)"
   ]
  },
  {
   "cell_type": "markdown",
   "metadata": {},
   "source": [
    "## Problem 7.2"
   ]
  },
  {
   "cell_type": "code",
   "execution_count": 58,
   "metadata": {},
   "outputs": [
    {
     "name": "stdout",
     "output_type": "stream",
     "text": [
      "(2, 40)\n",
      "(1, 40)\n"
     ]
    }
   ],
   "source": [
    "# load in dataset\n",
    "csvname = datapath + '4class_data.csv'\n",
    "data = np.loadtxt(csvname,delimiter = ',');\n",
    "\n",
    "# get input/output pairs\n",
    "x = data[:-1,:]\n",
    "y = data[-1:,:] \n",
    "\n",
    "x = std_normalize(x)\n",
    "\n",
    "print(np.shape(x))\n",
    "print(np.shape(y))"
   ]
  },
  {
   "cell_type": "code",
   "execution_count": 59,
   "metadata": {},
   "outputs": [],
   "source": [
    "def softmax(x,w,y):\n",
    "    \"\"\"\n",
    "    x and w are column vectors\n",
    "    y is a scalar\n",
    "    \"\"\"\n",
    "    exponent = np.dot(-y, np.dot(x.transpose(),w))\n",
    "    \n",
    "    total = np.log(1 + np.exp(exponent))\n",
    "    \n",
    "    return total\n",
    "\n",
    "def grad_softmax(x,w,y):\n",
    "    \"\"\"\n",
    "    x and w are column vectors\n",
    "    y is a scalar\n",
    "    \"\"\"\n",
    "    \n",
    "    exponent = np.squeeze(-y *  np.dot(x.transpose(), w))\n",
    "        \n",
    "    num = np.exp(exponent)\n",
    "    denom = 1 + np.exp(exponent)\n",
    "    \n",
    "    total = (num/denom) * y * x\n",
    "    \n",
    "    return total\n",
    "\n",
    "def hess_softmax(x, w, y):\n",
    "        \n",
    "    exponent = np.squeeze(y *  np.dot(x.transpose(), w))\n",
    "        \n",
    "    sigma = 1 / (1 +  np.exp(exponent))\n",
    "    hess = sigma * (1-sigma) * np.dot(x,x.transpose())\n",
    "    \n",
    "    return hess\n",
    "\n",
    "\n",
    "def newtons(f, df, ddf, x, y, w_init, beta, n=5, normalizer=-1.0):\n",
    "        \n",
    "    w = np.copy(w_init)\n",
    "    \n",
    "    cost_history = []\n",
    "    res_history = []\n",
    "\n",
    "    i = 0\n",
    "\n",
    "    done = False\n",
    "\n",
    "    while(not done):\n",
    "\n",
    "        grad_res = np.zeros([x.shape[0]+1, 1])\n",
    "        hess_res = np.zeros([x.shape[0]+1, x.shape[0]+1])\n",
    "        \n",
    "        cost = 0\n",
    "        res = 0\n",
    "        \n",
    "        for j, yp in enumerate(y[0]): # for each data point\n",
    "\n",
    "            xp = np.concatenate((np.array([1.0]), x[:,j])) # append a 1\n",
    "            xp = np.reshape(xp, [len(xp), 1]) # make into a column\n",
    "\n",
    "            cost += beta[j] * f(xp, w, yp)\n",
    "            grad_res += beta[j] * df(xp, w, yp)\n",
    "            hess_res += beta[j] * ddf(xp, w, yp)\n",
    "            \n",
    "            y_pred = np.sign(np.dot(xp.transpose(),w))\n",
    "            \n",
    "            if (y_pred == 0):\n",
    "                pass\n",
    "            else:\n",
    "                res += (y_pred != yp)\n",
    "            \n",
    "        cost /= float(y.shape[1])\n",
    "        grad_res /= (normalizer * float(y.shape[1]))\n",
    "        hess_res /= (-normalizer * float(y.shape[1]))\n",
    "        \n",
    "        cost_history.append(np.copy(np.squeeze(cost)))\n",
    "        res_history.append(np.copy(np.squeeze(res)))\n",
    "\n",
    "        if(i > n):\n",
    "            done = True\n",
    "        else:\n",
    "            \n",
    "            inv_h_res = np.linalg.inv(hess_res)\n",
    "            w -= np.dot(inv_h_res, grad_res)\n",
    "            i += 1\n",
    "        \n",
    "    return w, cost_history, res_history"
   ]
  },
  {
   "cell_type": "code",
   "execution_count": 69,
   "metadata": {},
   "outputs": [
    {
     "name": "stdout",
     "output_type": "stream",
     "text": [
      "The trained weights using the softmax: \n",
      "[[-0.62303075 -0.62829652 -0.63361567 -0.63252296]\n",
      " [-0.59987291  0.51650041 -0.50081835  0.59122823]\n",
      " [ 0.50198126  0.58178244 -0.58967123 -0.50036375]]\n",
      "Number of missclassifications:  10.0\n"
     ]
    },
    {
     "data": {
      "image/png": "[encoded data removed]",
      "text/plain": [
       "<matplotlib.figure.Figure at 0x7fb1a3e321d0>"
      ]
     },
     "metadata": {},
     "output_type": "display_data"
    }
   ],
   "source": [
    "C = 4\n",
    "\n",
    "w_init = np.ones([x.shape[0]+1, C])*0.5\n",
    "\n",
    "beta = np.ones(x.shape[1])\n",
    "\n",
    "yi = np.copy(y)\n",
    "w_c = np.copy(w_init)\n",
    "\n",
    "fig1 = plt.figure(dpi=110,facecolor='w')\n",
    "\n",
    "for i in range(C):\n",
    "    \n",
    "    # set y values to +/- 1 based on  the current C\n",
    "    yi = np.copy(y)\n",
    "    yi[yi != i] = -1\n",
    "    yi[yi == i] = 1\n",
    "    \n",
    "    out, costs, res = newtons(softmax, grad_softmax, hess_softmax, x, yi, w_init[:,0].reshape(x.shape[0]+1,1), beta, n = 5)\n",
    "    \n",
    "    plt.plot(np.arange(len(costs)),costs)\n",
    "    \n",
    "    # Normalize w\n",
    "    out_norm = out/np.linalg.norm(out,2)\n",
    "    \n",
    "    w_c[:,i] = np.copy(np.squeeze(out_norm))\n",
    "    \n",
    "# Now test the weights using the normalized w's\n",
    "xp = np.vstack([np.ones(x.shape[1]), x])\n",
    "test = np.dot(xp.T, w_c)\n",
    "misclass = test.argmax(axis=1)\n",
    "\n",
    "\n",
    "        \n",
    "print(\"The trained weights using the softmax: \")\n",
    "print(w_c)\n",
    "\n",
    "print(\"Number of missclassifications: \", np.mean(misclass != y) * y.shape[1])\n",
    "\n",
    "plt.grid(True)\n",
    "plt.title(\"Cost History for each 2-Class Classification\")\n",
    "plt.xlabel(\"Iteration\")\n",
    "plt.ylabel(\"Cost\")\n",
    "plt.show()"
   ]
  },
  {
   "cell_type": "markdown",
   "metadata": {},
   "source": [
    "## Problem 7.3"
   ]
  },
  {
   "cell_type": "code",
   "execution_count": 48,
   "metadata": {},
   "outputs": [
    {
     "name": "stdout",
     "output_type": "stream",
     "text": [
      "(3, 30)\n",
      "(1, 30)\n"
     ]
    }
   ],
   "source": [
    "# load in dataset\n",
    "data = np.loadtxt(datapath + '3class_data.csv',delimiter = ',')\n",
    "\n",
    "# get input/output pairs\n",
    "x = data[:-1,:]\n",
    "y = data[-1:,:]\n",
    "\n",
    "x = std_normalize(x)\n",
    "\n",
    "x = np.vstack([np.ones(x.shape[1]),x])\n",
    "\n",
    "print(np.shape(x))\n",
    "print(np.shape(y))\n"
   ]
  },
  {
   "cell_type": "code",
   "execution_count": 55,
   "metadata": {},
   "outputs": [],
   "source": [
    "def multiclass_perceptron(wi):\n",
    "    \n",
    "    W = np.copy(wi)\n",
    "    \n",
    "    # pre - compute predictions on all points\n",
    "    all_evals = np.dot(x.T, W)   \n",
    "    all_evals = all_evals.T\n",
    "\n",
    "    # find the max xp.T * w_j for each data point\n",
    "    a = np.max(all_evals, axis = 0)   \n",
    "\n",
    "    # Finds xp.T * w_yp for each data point based on the output associated to each input\n",
    "    # compute cost in compact form using numpy broadcasting\n",
    "    b = all_evals[y.astype(int).flatten(), np.arange(np.size(y))]\n",
    "    \n",
    "    # return average\n",
    "    return np.sum(a - b) / float(np.size(y))\n",
    "\n",
    "def grad_descent(func, alpha, n, w0):\n",
    "    dfunc = ag.jacobian(func)\n",
    "    \n",
    "    w = np.copy(w0)\n",
    "    \n",
    "    weight_history = [w] # weight history container\n",
    "    cost_history = [func(w)] # cost function history container\n",
    "    \n",
    "    for i in range(n):\n",
    "        grad_res = dfunc(w)\n",
    "        w -= alpha * grad_res\n",
    "        \n",
    "        weight_history.append(w)\n",
    "        cost_history.append(func(w))\n",
    "        \n",
    "    return weight_history, cost_history, w\n",
    "\n",
    "df = ag.grad(multiclass_perceptron)"
   ]
  },
  {
   "cell_type": "code",
   "execution_count": 56,
   "metadata": {},
   "outputs": [
    {
     "name": "stdout",
     "output_type": "stream",
     "text": [
      "[0 0 0 0 0 0 0 0 0 0 1 1 1 1 1 1 1 1 1 1 2 2 2 2 2 2 2 2 2 2]\n",
      "[ 0  1  2  3  4  5  6  7  8  9 10 11 12 13 14 15 16 17 18 19 20 21 22 23 24\n",
      " 25 26 27 28 29]\n"
     ]
    }
   ],
   "source": [
    "w_init = np.ones([x.shape[0], x.shape[0]])\n",
    "\n",
    "test = multiclass_perceptron(w_init)"
   ]
  },
  {
   "cell_type": "code",
   "execution_count": 56,
   "metadata": {},
   "outputs": [],
   "source": [
    "n = 20\n",
    "alpha = 0.1\n",
    "\n",
    "w_init = np.ones([x.shape[0], x.shape[0]])\n",
    "\n",
    "w_hist, c_hist, wfin = grad_descent(multiclass_perceptron, alpha, n, w_init)"
   ]
  },
  {
   "cell_type": "code",
   "execution_count": 57,
   "metadata": {},
   "outputs": [
    {
     "name": "stdout",
     "output_type": "stream",
     "text": [
      "Number of missclassifications:  0.0\n"
     ]
    }
   ],
   "source": [
    "# Combine the labels using fusion rule\n",
    "test = np.dot(x.T, wfin)\n",
    "\n",
    "misclass = test.argmax(axis=1)\n",
    "\n",
    "print(\"Number of missclassifications: \", np.mean(misclass != y) * y.shape[1])"
   ]
  },
  {
   "cell_type": "markdown",
   "metadata": {},
   "source": [
    "## Problem 7.4"
   ]
  },
  {
   "cell_type": "markdown",
   "metadata": {},
   "source": [
    "Starting at the final general equation:\n",
    "\n",
    "$$W = w_0,...,w_{C-1}$$\n",
    "\n",
    "$$ g(W) = \\frac{1}{P}\\sum_{p=1}^P max(0, x_p^T(w_j - w_{y_p}); {where {j= 0,...,C-1 and j \\ne y_p} }$$\n",
    "\n",
    "This equation also holds for the two-class classification problem where we only are solving for one set of weights that defines the boundary.\n",
    "\n",
    "By setting C = 2, we can see that there remains only two components to W, $w_0$ and $w_1$. One of these will be equal to $w_{y_p}$ leaving the max function with only one remaining $w$ to compare against the 0.\n",
    "\n",
    "In equation 6.33 from the text, the input to $g(*)$ is only a single $w$. For the general solution above, using $w_0$ vs. $w_1$ would yield inverse results of each other so depending on which class we want to define as the positive side of the line, we only need one to select of them to perform the classification because a single line is all that is needed to define the boundary between two classes. \n",
    "\n",
    "The other difference between the general solution and equation 6.33 is the  $-y_p$ term. In the general solution, it is assumes that for each point $x_p$ the contents of $w_j$ and $w_yp$ flip $w$ that yields the largest $x_p^Tw_j$. Because $x_p^Tw_y \\gt x_p^Tw_j$ we know that if x_p is classified correctly, the cost will be 0 and some positive if it is classified incorrectly by the boundary. But it we only wanted to use one $w$ we would need to determine if a point on the negative side of the line was classified properly. This is where the $-y_p$ term comes into play.\n",
    "\n",
    "For a two-class problem using a perceptron, the labels are either +1 or -1, meaning that by multiplying by that -y_p value will result in a cost of 0 if the point is classified properly and some positive value if it is classified incorrectly.\n",
    "\n",
    "Therefore the equation is 6.33 is a special case of the general equation in 7.20.\n"
   ]
  },
  {
   "cell_type": "markdown",
   "metadata": {},
   "source": [
    "## Probelm 7.6"
   ]
  },
  {
   "cell_type": "markdown",
   "metadata": {},
   "source": [
    "Finish the argument started in Section 7.3.7 to show that the multi-class Softmax\n",
    "cost in Equation (7.23) reduces to the two-class Softmax cost in Equation (6.34)."
   ]
  },
  {
   "cell_type": "markdown",
   "metadata": {},
   "source": [
    "Starting a the final general equation (7.23):\n",
    "\n",
    "$$ g(W) = \\frac{1}{P}\\sum_{p=1}^P \\log{ \\left( \\sum_{j=0}^{C-1} e^{x_p^Tw_j} \\right)} - x_p^Tw_{y_p}$$\n",
    "\n",
    "For the two-class classification case C = 2, by plugging this in and unsimplifying the log the general equation can be rewritten like:\n",
    "\n",
    "$$ g(w_0, w_1) = \\frac{1}{P}\\sum_{p=1}^P \\log \\left( e^{x_p^T(w_j - w_{y_p})} + 1 \\right) $$\n",
    "\n",
    "Where $w_yp$ is either $w_0$ or $w_1$ depending on $x_p$ and $w_j$ is the other column of $W$ that is not $w_{y_p}$.\n",
    "\n",
    "This form is similar to equation 6.37 and we can apply similar logic as the perceptron when comparing the general equation for C = 2 and the two-class specific equation. Only one of the two columns in $W$ is needed to perform the classification. By selecting one of them, we define the positive side of the boundary. Now we need make sure that sign of $x_p^T w$ has the correct sign. This is where the $-y_p$ comes in to properly adjust for a correct/incorrect classifcation of a -1/+1 output."
   ]
  },
  {
   "cell_type": "markdown",
   "metadata": {},
   "source": [
    "## Problem 7.8"
   ]
  },
  {
   "cell_type": "markdown",
   "metadata": {},
   "source": [
    "Show that the multi-class Perceptron and Softmax costs are always convex\n",
    "(regardless of the dataset used). To do this you can use, e.g., the zero-order\n",
    "definition of convexity (see Exercise 5.8)."
   ]
  },
  {
   "cell_type": "markdown",
   "metadata": {},
   "source": [
    "The zero-order definition of convexity states that:\n",
    "    $$ g(\\lambda w_1 + (1-\\lambda)w_2) \\leq \\lambda g(w_1) + (1-\\lambda)g(w_2) $$\n",
    "    \n",
    "Meaning that the value of g evaluated at some proportional combination of w's is less than or equal to the proportional combination of $g(w_1)$ and $g(w_2)$.\n",
    "\n",
    "For a multiclass perceptron/softmax, this relationship must hold between all classes. The multiclass examples are really just various combinations of two-class problems, so if the two-class perceptron/softmax is convex then this property will also extend to a C-class problem.\n",
    "\n",
    "For a given point, it will have an associated $w_{y_p}$ and when classified properly the cost associated to that data point will be 0 since $w_{y_p} \\gt w_{j}$, This will result in a flat hyperplane. If the point is classified incorrectly the cost will always be a positve value that increases as the difference between $w_{y_p}$ and $w_{j}$ increases. This will be represented as a hyperplane with a positive slope that completely surrounds the hyperplane at 0. The cost at some proportional combination of w's will be less than or equal to the proportional cost at the the different w's.\n",
    "\n",
    "Since the softmax is just a smoothed version of the perceptron the same properties will transfer to this function with the addition trait that is is always continuous."
   ]
  },
  {
   "cell_type": "markdown",
   "metadata": {},
   "source": [
    "## Problem 9.2"
   ]
  },
  {
   "cell_type": "code",
   "execution_count": 58,
   "metadata": {},
   "outputs": [
    {
     "name": "stdout",
     "output_type": "stream",
     "text": [
      "(784, 70000)\n",
      "(1, 70000)\n"
     ]
    }
   ],
   "source": [
    "from sklearn.datasets import fetch_openml\n",
    "# import MNIST\n",
    "x, y = fetch_openml('mnist_784', version=1, return_X_y=True)\n",
    "\n",
    "# re-shape input/output data\n",
    "x = x.T\n",
    "y = np.array([int(v) for v in y])[np.newaxis,:]\n",
    "\n",
    "print(np.shape(x))\n",
    "print(np.shape(y))"
   ]
  },
  {
   "cell_type": "code",
   "execution_count": 123,
   "metadata": {
    "scrolled": false
   },
   "outputs": [
    {
     "name": "stdout",
     "output_type": "stream",
     "text": [
      "(785, 50000)\n",
      "(1, 50000)\n",
      "(785, 20000)\n",
      "(1, 20000)\n"
     ]
    }
   ],
   "source": [
    "# normalize each picture\n",
    "for i in range(x.shape[1]):\n",
    "    x[:,i] = x[:,i] / np.linalg.norm(x[:,i])\n",
    "\n",
    "trainingx = x[:,0:50000]\n",
    "trainingy = y[:,0:50000]\n",
    "\n",
    "testingx = x[:,50000:]\n",
    "testingy = y[:,50000:]\n",
    "\n",
    "# Preappend the ones to the data sets:\n",
    "trainingx = np.vstack([np.ones(trainingx.shape[1]),trainingx])\n",
    "testingx = np.vstack([np.ones(testingx.shape[1]),testingx])\n",
    "\n",
    "print(np.shape(trainingx))\n",
    "print(np.shape(trainingy))\n",
    "\n",
    "print(np.shape(testingx))\n",
    "print(np.shape(testingy))"
   ]
  },
  {
   "cell_type": "code",
   "execution_count": 155,
   "metadata": {},
   "outputs": [],
   "source": [
    "def multiclass_softmax(wi, xin, yin):\n",
    "    \n",
    "    # compute predictions on all points\n",
    "    all_evals = np.dot(xin.T, wi)   \n",
    "    all_evals = all_evals.T\n",
    "    \n",
    "    # Finds xp.T * w_yp for each data point based on the output associated to each input\n",
    "    b = all_evals[yin.astype(int).flatten(), np.arange(np.size(yin))]\n",
    "\n",
    "    # subtract the xp.T*w_yp value from all xp.T * w_j values\n",
    "    # find the max xp.T * w_j for each data point    \n",
    "    a = (all_evals - b)\n",
    "\n",
    "    # take the exponent of each xp.T (w_j - w_yp)\n",
    "    a = np.exp(a)   \n",
    "    \n",
    "    # sum each column\n",
    "    a_sum = a.sum(axis=0)\n",
    "    \n",
    "    # take the log of 1+sum for each data point\n",
    "    a_sum = np.log(1 + a_sum)\n",
    "    \n",
    "    # return the average cost\n",
    "    return np.sum(a_sum) / float(np.size(yin))\n",
    "\n",
    "def mini_batch_gd(func, w0, data_x, data_y, epochs, alpha, mini_batch_size):\n",
    "    \"\"\"\n",
    "    func- cost function\n",
    "    w0 - initial guess\n",
    "    data_x - training data with a 1 already appended to it\n",
    "    data_y - training data\n",
    "    epochs - number of full iterations\n",
    "    alpah - learning rate\n",
    "    mini_batch_size - the size of each batch to parse the data with\n",
    "    \n",
    "    The mini batch size should fit evenly in to the number of data points\n",
    "    \"\"\"\n",
    "    dfunc = ag.grad(func)\n",
    "    \n",
    "    w = np.copy(w0)\n",
    "    \n",
    "    weight_history = [np.copy(w)] # weight history container\n",
    "    cost_history = [func(w,data_x,data_y)] # cost function history container\n",
    "    \n",
    "    miss_history = []\n",
    "    \n",
    "    num_batches = int(data_y.shape[1]/mini_batch_size)\n",
    "    \n",
    "    for i in range(epochs):\n",
    "        \n",
    "        # Use mini batches to compute each w and cost\n",
    "        for j in range(num_batches-1):\n",
    "                        \n",
    "            x_seg = data_x[:, mini_batch_size * (j) : mini_batch_size * (j+1)]\n",
    "            y_seg = data_y[:, mini_batch_size * (j) : mini_batch_size * (j+1)]\n",
    "            \n",
    "            grad_res = dfunc(w, x_seg, y_seg)\n",
    "                       \n",
    "            w -= alpha*grad_res\n",
    "        \n",
    "        cost_history.append(func(w, data_x, data_y))\n",
    "        weight_history.append(np.copy(w))\n",
    "        \n",
    "        test = np.dot(data_x.T, w)\n",
    "        misclass = test.argmax(axis=1)\n",
    "        miss_history.append(np.sum(misclass != trainingy[0]))        \n",
    "        print(\"Completed Epoch: \", i)\n",
    "        \n",
    "    return cost_history, weight_history, miss_history, w\n",
    "    \n",
    "epochs = 20\n",
    "alpha = 2e-1\n",
    "batch_n = 200\n",
    "\n",
    "C = 10 # numbers 0 through 9\n",
    "\n",
    "w_init = np.ones([trainingx.shape[0], C])"
   ]
  },
  {
   "cell_type": "code",
   "execution_count": 156,
   "metadata": {},
   "outputs": [
    {
     "name": "stdout",
     "output_type": "stream",
     "text": [
      "Completed Epoch:  0\n",
      "Completed Epoch:  1\n",
      "Completed Epoch:  2\n",
      "Completed Epoch:  3\n",
      "Completed Epoch:  4\n",
      "Completed Epoch:  5\n",
      "Completed Epoch:  6\n",
      "Completed Epoch:  7\n",
      "Completed Epoch:  8\n",
      "Completed Epoch:  9\n",
      "Completed Epoch:  10\n",
      "Completed Epoch:  11\n",
      "Completed Epoch:  12\n",
      "Completed Epoch:  13\n",
      "Completed Epoch:  14\n",
      "Completed Epoch:  15\n",
      "Completed Epoch:  16\n",
      "Completed Epoch:  17\n",
      "Completed Epoch:  18\n",
      "Completed Epoch:  19\n"
     ]
    }
   ],
   "source": [
    "cost_raw, ws_raw, misses_raw, w_raw = mini_batch_gd(multiclass_softmax, w_init, trainingx, trainingy, epochs, alpha, batch_n)"
   ]
  },
  {
   "cell_type": "code",
   "execution_count": 160,
   "metadata": {},
   "outputs": [
    {
     "data": {
      "image/png": "[encoded data removed]",
      "text/plain": [
       "<matplotlib.figure.Figure at 0x7f1c1c563c18>"
      ]
     },
     "metadata": {},
     "output_type": "display_data"
    },
    {
     "data": {
      "image/png": "[encoded data removed]",
      "text/plain": [
       "<matplotlib.figure.Figure at 0x7f1c1c6194e0>"
      ]
     },
     "metadata": {},
     "output_type": "display_data"
    }
   ],
   "source": [
    "\n",
    "fig1 = plt.figure(dpi=110,facecolor='w')\n",
    "plt.grid(True)\n",
    "plt.plot(np.arange(len(cost_raw)),cost_raw)\n",
    "plt.title(\"Cost History\")\n",
    "plt.xlabel(\"Epoch\")\n",
    "plt.ylabel(\"Cost\")\n",
    "plt.show()\n",
    "\n",
    "fig1 = plt.figure(dpi=110,facecolor='w')\n",
    "plt.grid(True)\n",
    "plt.plot(np.arange(len(misses_raw))+1,misses_raw)\n",
    "plt.title(\"Number of Misclassifications\")\n",
    "plt.xlabel(\"Epoch\")\n",
    "plt.ylabel(\"Misclassifications\")\n",
    "plt.show()"
   ]
  },
  {
   "cell_type": "code",
   "execution_count": null,
   "metadata": {},
   "outputs": [],
   "source": []
  }
 ],
 "metadata": {
  "kernelspec": {
   "display_name": "Python 3",
   "language": "python",
   "name": "python3"
  },
  "language_info": {
   "codemirror_mode": {
    "name": "ipython",
    "version": 3
   },
   "file_extension": ".py",
   "mimetype": "text/x-python",
   "name": "python",
   "nbconvert_exporter": "python",
   "pygments_lexer": "ipython3",
   "version": "3.6.9"
  }
 },
 "nbformat": 4,
 "nbformat_minor": 4
}
