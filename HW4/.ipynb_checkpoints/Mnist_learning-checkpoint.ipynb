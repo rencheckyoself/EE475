{
 "cells": [
  {
   "cell_type": "code",
   "execution_count": 1,
   "metadata": {},
   "outputs": [],
   "source": [
    "import sympy as sym\n",
    "import autograd.numpy as np\n",
    "import matplotlib.pyplot as plt\n",
    "\n",
    "# import autograd ’s automatic differentiator\n",
    "import autograd as ag\n",
    "\n",
    "# datapath to data\n",
    "datapath = '/home/michaelrencheck/EE475/machine_learning_refined-gh-pages/mlrefined_exercises/ed_2/mlrefined_datasets/superlearn_datasets/'\n",
    "\n",
    "sym.init_printing()\n",
    "\n",
    "# Function to standard normalize data\n",
    "def std_normalize(in_arr):\n",
    "    u = np.mean(in_arr, axis=1)\n",
    "    sig = np.std(in_arr, axis=1)\n",
    "        \n",
    "    out = np.zeros(in_arr.shape)\n",
    "    \n",
    "    for i, row in enumerate(in_arr):       \n",
    "        for j, element in enumerate(row):\n",
    "            out[i,j] = (element - u[i])/ sig[i]\n",
    "            \n",
    "    return np.squeeze(out)"
   ]
  },
  {
   "cell_type": "code",
   "execution_count": 2,
   "metadata": {},
   "outputs": [
    {
     "name": "stdout",
     "output_type": "stream",
     "text": [
      "(784, 70000)\n",
      "(1, 70000)\n"
     ]
    }
   ],
   "source": [
    "from sklearn.datasets import fetch_openml\n",
    "# import MNIST\n",
    "x, y = fetch_openml('mnist_784', version=1, return_X_y=True)\n",
    "\n",
    "# re-shape input/output data\n",
    "x = x.T\n",
    "y = np.array([int(v) for v in y])[np.newaxis,:]\n",
    "\n",
    "print(np.shape(x))\n",
    "print(np.shape(y))"
   ]
  },
  {
   "cell_type": "code",
   "execution_count": 3,
   "metadata": {},
   "outputs": [
    {
     "name": "stdout",
     "output_type": "stream",
     "text": [
      "(785, 50000)\n",
      "(1, 50000)\n",
      "(785, 20000)\n",
      "(1, 20000)\n"
     ]
    }
   ],
   "source": [
    "# normalize each picture\n",
    "for i in range(x.shape[1]):\n",
    "    x[:,i] = x[:,i] / np.linalg.norm(x[:,i])\n",
    "\n",
    "trainingx = x[:,0:50000]\n",
    "trainingy = y[:,0:50000]\n",
    "\n",
    "testingx = x[:,50000:]\n",
    "testingy = y[:,50000:]\n",
    "\n",
    "# Preappend the ones to the data sets:\n",
    "trainingx = np.vstack([np.ones(trainingx.shape[1]),trainingx])\n",
    "testingx = np.vstack([np.ones(testingx.shape[1]),testingx])\n",
    "\n",
    "print(np.shape(trainingx))\n",
    "print(np.shape(trainingy))\n",
    "\n",
    "print(np.shape(testingx))\n",
    "print(np.shape(testingy))"
   ]
  },
  {
   "cell_type": "code",
   "execution_count": 4,
   "metadata": {},
   "outputs": [],
   "source": [
    "def multiclass_softmax(wi, xin, yin):\n",
    "    \"\"\"\n",
    "    wi - weights\n",
    "    xin - input data\n",
    "    yin - output labels\n",
    "    \"\"\"\n",
    "    # compute predictions on all points\n",
    "    all_evals = np.dot(xin.T, wi)   \n",
    "    all_evals = all_evals.T\n",
    "    \n",
    "    # Finds xp.T * w_yp for each data point based on the output associated to each input\n",
    "    b = all_evals[yin.astype(int).flatten(), np.arange(np.size(yin))]\n",
    "\n",
    "    # subtract the xp.T*w_yp value from all xp.T * w_j values\n",
    "    # find the max xp.T * w_j for each data point    \n",
    "    a = (all_evals - b)\n",
    "\n",
    "    # take the exponent of each xp.T (w_j - w_yp)\n",
    "    a = np.exp(a)   \n",
    "    \n",
    "    # sum each column\n",
    "    a_sum = a.sum(axis=0)\n",
    "    \n",
    "    # take the log of 1+sum for each data point\n",
    "    a_sum = np.log(1 + a_sum)\n",
    "    \n",
    "    # return the average cost\n",
    "    return np.sum(a_sum) / float(np.size(yin))\n",
    "\n",
    "def mini_batch_gd(func, w0, data_x, data_y, epochs, alpha, mini_batch_size):\n",
    "    \"\"\"\n",
    "    func- cost function\n",
    "    w0 - initial guess\n",
    "    data_x - training data with a 1 already appended to it\n",
    "    data_y - training data\n",
    "    epochs - number of full iterations\n",
    "    alpah - learning rate\n",
    "    mini_batch_size - the size of each batch to parse the data with\n",
    "    \n",
    "    The mini batch size should fit evenly in to the number of data points\n",
    "    \"\"\"\n",
    "    dfunc = ag.grad(func)\n",
    "    \n",
    "    w = np.copy(w0)\n",
    "    \n",
    "    weight_history = [np.copy(w)] # weight history container\n",
    "    cost_history = [func(w,data_x,data_y)] # cost function history container\n",
    "    \n",
    "    miss_history = [] #misclassification histroy container\n",
    "    \n",
    "    num_batches = int(data_y.shape[1]/mini_batch_size)\n",
    "    \n",
    "    for i in range(epochs):\n",
    "        \n",
    "        # Use mini batches to compute each w and cost\n",
    "        for j in range(num_batches-1):\n",
    "                        \n",
    "            x_seg = data_x[:, mini_batch_size * (j) : mini_batch_size * (j+1)]\n",
    "            y_seg = data_y[:, mini_batch_size * (j) : mini_batch_size * (j+1)]\n",
    "            \n",
    "            grad_res = dfunc(w, x_seg, y_seg)\n",
    "                       \n",
    "            w -= alpha*grad_res\n",
    "        \n",
    "        cost_history.append(func(w, data_x, data_y))\n",
    "        weight_history.append(np.copy(w))\n",
    "        \n",
    "        test = np.dot(data_x.T, w)\n",
    "        misclass = test.argmax(axis=1)\n",
    "        miss_history.append(np.sum(misclass != trainingy[0]))        \n",
    "        print(\"Completed Epoch: \", i)\n",
    "        \n",
    "    return cost_history, weight_history, miss_history, w\n"
   ]
  },
  {
   "cell_type": "code",
   "execution_count": 17,
   "metadata": {
    "collapsed": true
   },
   "outputs": [
    {
     "name": "stdout",
     "output_type": "stream",
     "text": [
      "Completed Epoch:  0\n",
      "Completed Epoch:  1\n",
      "Completed Epoch:  2\n",
      "Completed Epoch:  3\n",
      "Completed Epoch:  4\n",
      "Completed Epoch:  5\n",
      "Completed Epoch:  6\n",
      "Completed Epoch:  7\n",
      "Completed Epoch:  8\n",
      "Completed Epoch:  9\n",
      "Completed Epoch:  10\n",
      "Completed Epoch:  11\n",
      "Completed Epoch:  12\n",
      "Completed Epoch:  13\n",
      "Completed Epoch:  14\n",
      "Completed Epoch:  15\n",
      "Completed Epoch:  16\n",
      "Completed Epoch:  17\n",
      "Completed Epoch:  18\n",
      "Completed Epoch:  19\n",
      "Completed Epoch:  20\n",
      "Completed Epoch:  21\n",
      "Completed Epoch:  22\n",
      "Completed Epoch:  23\n",
      "Completed Epoch:  24\n",
      "Completed Epoch:  25\n",
      "Completed Epoch:  26\n",
      "Completed Epoch:  27\n",
      "Completed Epoch:  28\n",
      "Completed Epoch:  29\n"
     ]
    }
   ],
   "source": [
    "epochs = 30\n",
    "alpha = 3e-1\n",
    "batch_n = 200\n",
    "\n",
    "C = 10 # numbers 0 through 9\n",
    "\n",
    "w_init = np.ones([trainingx.shape[0], C])\n",
    "\n",
    "cost_raw, ws_raw, misses_raw, w_raw = mini_batch_gd(multiclass_softmax, w_init, trainingx, trainingy, epochs, alpha, batch_n)"
   ]
  },
  {
   "cell_type": "code",
   "execution_count": 6,
   "metadata": {},
   "outputs": [
    {
     "name": "stdout",
     "output_type": "stream",
     "text": [
      "(648, 50000)\n"
     ]
    }
   ],
   "source": [
    "# Perform convolution for vertical and horizonal kernals on each image to perform edge detection \n",
    "# Break each image into 9 3X3 blocks and ignore the last row and column of pixels giving us 81 blocks per image\n",
    "\n",
    "# edge detection kernals\n",
    "horz_kernel = np.array([[1, 1, 1], [0, 0, 0], [-1, -1, -1]])\n",
    "vert_kernel = np.array([[1, 0, -1], [1, 0, -1], [1, 0, -1]])\n",
    "\n",
    "# histogram bins\n",
    "bins = np.array([0, 22.5, 45, 67.5, 90, 112.5, 135, 157.5])\n",
    "\n",
    "# initialize the new training dataset\n",
    "trainingx_hist = np.zeros([81*len(bins), trainingx.shape[1]])\n",
    "\n",
    "for pic_id in range(trainingx.shape[1]):\n",
    "    \n",
    "    # reshape the data into the shape of the picture\n",
    "    picture = trainingx[1:, pic_id].reshape(28,28)\n",
    "    \n",
    "    # feature data for the 81 blocks in a photo\n",
    "    picture_hist = np.zeros([81,len(bins)])\n",
    "    \n",
    "    for i in range(9):\n",
    "        # y coords for a block\n",
    "        ys = 3*i\n",
    "        ye = 3*(i+1)\n",
    "\n",
    "        for j in range(9):\n",
    "            # x coords for a block\n",
    "            xs= 3*j\n",
    "            xe= 3*(j+1)     \n",
    "\n",
    "            # extract the block\n",
    "            block = picture[xs:xe, ys:ye]\n",
    "\n",
    "            # Convolve the block\n",
    "            xcomp = np.sum(np.multiply(block, horz_kernel))\n",
    "            ycomp = np.sum(np.multiply(block, vert_kernel))\n",
    "\n",
    "            # clac the block index\n",
    "            block_num = i*9 + j\n",
    "\n",
    "            # skip over all blocks that have no edges or calculate the angle of the vector\n",
    "            if(xcomp == 0 and ycomp == 0):\n",
    "                pass\n",
    "            else:\n",
    "                # find the angle of the vector\n",
    "                ang = np.arctan2(ycomp,xcomp)\n",
    "\n",
    "                # make all angles positive\n",
    "                if ang < 0:\n",
    "                    ang += np.pi\n",
    "\n",
    "                # convert to degrees\n",
    "                ang = (ang * 360) / (2*np.pi)\n",
    "\n",
    "                # find the closest angle and get the index of it in the histogram\n",
    "                picture_hist[block_num, np.argmin(np.abs(bins - ang))] = 1\n",
    "            \n",
    "\n",
    "    trainingx_hist[:, pic_id] = np.copy(picture_hist.flatten())\n",
    "\n",
    "print(trainingx_hist.shape)"
   ]
  },
  {
   "cell_type": "code",
   "execution_count": 23,
   "metadata": {},
   "outputs": [
    {
     "name": "stdout",
     "output_type": "stream",
     "text": [
      "(648, 20000)\n"
     ]
    }
   ],
   "source": [
    "testingx_hist = np.zeros([81*len(bins), testingx.shape[1]])\n",
    "\n",
    "for pic_id in range(testingx.shape[1]):\n",
    "    \n",
    "    # reshape the data into the shape of the picture\n",
    "    picture = testingx[1:, pic_id].reshape(28,28)\n",
    "    \n",
    "    # feature data for the 81 blocks in a photo\n",
    "    picture_hist = np.zeros([81,len(bins)])\n",
    "    \n",
    "    for i in range(9):\n",
    "        # y coords for a block\n",
    "        ys = 3*i\n",
    "        ye = 3*(i+1)\n",
    "\n",
    "        for j in range(9):\n",
    "            # x coords for a block\n",
    "            xs= 3*j\n",
    "            xe= 3*(j+1)     \n",
    "\n",
    "            # extract the block\n",
    "            block = picture[xs:xe, ys:ye]\n",
    "\n",
    "            # Convolve the block\n",
    "            xcomp = np.sum(np.multiply(block, horz_kernel))\n",
    "            ycomp = np.sum(np.multiply(block, vert_kernel))\n",
    "\n",
    "            # clac the block index\n",
    "            block_num = i*9 + j\n",
    "\n",
    "            # skip over all blocks that have no edges or calculate the angle of the vector\n",
    "            if(xcomp == 0 and ycomp == 0):\n",
    "                pass\n",
    "            else:\n",
    "                # find the angle of the vector\n",
    "                ang = np.arctan2(ycomp,xcomp)\n",
    "\n",
    "                # make all angles positive\n",
    "                if ang < 0:\n",
    "                    ang += np.pi\n",
    "\n",
    "                # convert to degrees\n",
    "                ang = (ang * 360) / (2*np.pi)\n",
    "\n",
    "                # find the closest angle and get the index of it in the histogram\n",
    "                picture_hist[block_num, np.argmin(np.abs(bins - ang))] = 1\n",
    "            \n",
    "\n",
    "    testingx_hist[:, pic_id] = np.copy(picture_hist.flatten())\n",
    "\n",
    "print(testingx_hist.shape)"
   ]
  },
  {
   "cell_type": "code",
   "execution_count": 14,
   "metadata": {
    "collapsed": true
   },
   "outputs": [
    {
     "name": "stdout",
     "output_type": "stream",
     "text": [
      "Completed Epoch:  0\n",
      "Completed Epoch:  1\n",
      "Completed Epoch:  2\n",
      "Completed Epoch:  3\n",
      "Completed Epoch:  4\n",
      "Completed Epoch:  5\n",
      "Completed Epoch:  6\n",
      "Completed Epoch:  7\n",
      "Completed Epoch:  8\n",
      "Completed Epoch:  9\n",
      "Completed Epoch:  10\n",
      "Completed Epoch:  11\n",
      "Completed Epoch:  12\n",
      "Completed Epoch:  13\n",
      "Completed Epoch:  14\n",
      "Completed Epoch:  15\n",
      "Completed Epoch:  16\n",
      "Completed Epoch:  17\n",
      "Completed Epoch:  18\n",
      "Completed Epoch:  19\n",
      "Completed Epoch:  20\n",
      "Completed Epoch:  21\n",
      "Completed Epoch:  22\n",
      "Completed Epoch:  23\n",
      "Completed Epoch:  24\n",
      "Completed Epoch:  25\n",
      "Completed Epoch:  26\n",
      "Completed Epoch:  27\n",
      "Completed Epoch:  28\n",
      "Completed Epoch:  29\n"
     ]
    }
   ],
   "source": [
    "epochs = 30\n",
    "alpha = 3e-1\n",
    "batch_n = 200\n",
    "\n",
    "C = 10 # numbers 0 through 9\n",
    "\n",
    "w_init = np.ones([trainingx_hist.shape[0], C])\n",
    "\n",
    "cost_hist, ws_hist, misses_hist, w_hist = mini_batch_gd(multiclass_softmax, w_init, trainingx_hist, trainingy, epochs, alpha, batch_n)"
   ]
  },
  {
   "cell_type": "code",
   "execution_count": 19,
   "metadata": {
    "collapsed": true
   },
   "outputs": [
    {
     "name": "stdout",
     "output_type": "stream",
     "text": [
      "Training Process Results\n"
     ]
    },
    {
     "data": {
      "image/png": "[encoded data removed]",
      "text/plain": [
       "<matplotlib.figure.Figure at 0x7f20b5892f60>"
      ]
     },
     "metadata": {},
     "output_type": "display_data"
    },
    {
     "data": {
      "image/png": "[encoded data removed]",
      "text/plain": [
       "<matplotlib.figure.Figure at 0x7f20b57f84a8>"
      ]
     },
     "metadata": {},
     "output_type": "display_data"
    }
   ],
   "source": [
    "print(\"Training Process Results\")\n",
    "\n",
    "fig1 = plt.figure(dpi=110,facecolor='w')\n",
    "plt.grid(True)\n",
    "plt.plot(np.arange(len(cost_raw)),cost_raw)\n",
    "plt.plot(np.arange(len(cost_hist)),cost_hist)\n",
    "plt.title(\"Cost History\")\n",
    "plt.xlabel(\"Epoch\")\n",
    "plt.ylabel(\"Cost\")\n",
    "plt.ylim(ymin=0)\n",
    "plt.legend([\"Pixel Values\", \"Edge-based Histogram\"])\n",
    "\n",
    "fig1 = plt.figure(dpi=110,facecolor='w')\n",
    "plt.grid(True)\n",
    "plt.plot(np.arange(len(misses_raw))+1,misses_raw)\n",
    "plt.plot(np.arange(len(misses_hist))+1,misses_hist)\n",
    "plt.title(\"Number of Misclassifications\")\n",
    "plt.xlabel(\"Epoch\")\n",
    "plt.ylabel(\"Misclassifications\")\n",
    "plt.legend([\"Pixel Values\", \"Edge-based Histogram\"])\n",
    "plt.ylim(ymin=0)\n",
    "plt.show()"
   ]
  },
  {
   "cell_type": "code",
   "execution_count": 28,
   "metadata": {},
   "outputs": [
    {
     "name": "stdout",
     "output_type": "stream",
     "text": [
      "Misclassifications of Testing Data for Final Weights:\n",
      "Pixel Values: \t\t 2091\n",
      "Edge-based Histogram: \t 992\n"
     ]
    }
   ],
   "source": [
    "print(\"Misclassifications of Testing Data for Final Weights:\")\n",
    "test = np.dot(testingx.T, w_raw)\n",
    "misclass = test.argmax(axis=1)\n",
    "print(\"Pixel Values: \\t\\t\", np.sum(misclass != testingy[0])) \n",
    "\n",
    "test = np.dot(testingx_hist.T, w_hist)\n",
    "misclass = test.argmax(axis=1)\n",
    "print(\"Edge-based Histogram: \\t\", np.sum(misclass != testingy[0])) \n"
   ]
  }
 ],
 "metadata": {
  "kernelspec": {
   "display_name": "Python 3",
   "language": "python",
   "name": "python3"
  },
  "language_info": {
   "codemirror_mode": {
    "name": "ipython",
    "version": 3
   },
   "file_extension": ".py",
   "mimetype": "text/x-python",
   "name": "python",
   "nbconvert_exporter": "python",
   "pygments_lexer": "ipython3",
   "version": "3.6.9"
  }
 },
 "nbformat": 4,
 "nbformat_minor": 4
}
